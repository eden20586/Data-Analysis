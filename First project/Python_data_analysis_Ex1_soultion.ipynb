{
  "nbformat": 4,
  "nbformat_minor": 0,
  "metadata": {
    "colab": {
      "name": "Python_data_analysis_Ex1.ipynb",
      "provenance": [],
      "collapsed_sections": []
    },
    "kernelspec": {
      "name": "python3",
      "display_name": "Python 3"
    },
    "language_info": {
      "name": "python"
    }
  },
  "cells": [
    {
      "cell_type": "code",
      "metadata": {
        "id": "kbnRoY4Mm6Ll"
      },
      "source": [
        "import seaborn as sns"
      ],
      "execution_count": 1,
      "outputs": []
    },
    {
      "cell_type": "markdown",
      "metadata": {
        "id": "_YEeWHAfnFoE"
      },
      "source": [
        "#1.import libraries:"
      ]
    },
    {
      "cell_type": "code",
      "metadata": {
        "id": "wz6Ku-YYnNCx"
      },
      "source": [
        "#import numpy and pandas and all requierd modules.\n",
        "#Your code here:\n",
        "import numpy as np\n",
        "import pandas as pd\n",
        "\n"
      ],
      "execution_count": 2,
      "outputs": []
    },
    {
      "cell_type": "code",
      "metadata": {
        "id": "tPTBl3u3h9LL"
      },
      "source": [
        "df =sns.load_dataset('tips')"
      ],
      "execution_count": 3,
      "outputs": []
    },
    {
      "cell_type": "code",
      "metadata": {
        "id": "RZ4fBHKfh9LM",
        "colab": {
          "base_uri": "https://localhost:8080/",
          "height": 206
        },
        "outputId": "e77edfca-73df-4672-f76f-f9977112effc"
      },
      "source": [
        "df.head(5)"
      ],
      "execution_count": 4,
      "outputs": [
        {
          "output_type": "execute_result",
          "data": {
            "text/html": [
              "\n",
              "  <div id=\"df-e25facf6-0dff-4690-9ff4-4a0773f4a406\">\n",
              "    <div class=\"colab-df-container\">\n",
              "      <div>\n",
              "<style scoped>\n",
              "    .dataframe tbody tr th:only-of-type {\n",
              "        vertical-align: middle;\n",
              "    }\n",
              "\n",
              "    .dataframe tbody tr th {\n",
              "        vertical-align: top;\n",
              "    }\n",
              "\n",
              "    .dataframe thead th {\n",
              "        text-align: right;\n",
              "    }\n",
              "</style>\n",
              "<table border=\"1\" class=\"dataframe\">\n",
              "  <thead>\n",
              "    <tr style=\"text-align: right;\">\n",
              "      <th></th>\n",
              "      <th>total_bill</th>\n",
              "      <th>tip</th>\n",
              "      <th>sex</th>\n",
              "      <th>smoker</th>\n",
              "      <th>day</th>\n",
              "      <th>time</th>\n",
              "      <th>size</th>\n",
              "    </tr>\n",
              "  </thead>\n",
              "  <tbody>\n",
              "    <tr>\n",
              "      <th>0</th>\n",
              "      <td>16.99</td>\n",
              "      <td>1.01</td>\n",
              "      <td>Female</td>\n",
              "      <td>No</td>\n",
              "      <td>Sun</td>\n",
              "      <td>Dinner</td>\n",
              "      <td>2</td>\n",
              "    </tr>\n",
              "    <tr>\n",
              "      <th>1</th>\n",
              "      <td>10.34</td>\n",
              "      <td>1.66</td>\n",
              "      <td>Male</td>\n",
              "      <td>No</td>\n",
              "      <td>Sun</td>\n",
              "      <td>Dinner</td>\n",
              "      <td>3</td>\n",
              "    </tr>\n",
              "    <tr>\n",
              "      <th>2</th>\n",
              "      <td>21.01</td>\n",
              "      <td>3.50</td>\n",
              "      <td>Male</td>\n",
              "      <td>No</td>\n",
              "      <td>Sun</td>\n",
              "      <td>Dinner</td>\n",
              "      <td>3</td>\n",
              "    </tr>\n",
              "    <tr>\n",
              "      <th>3</th>\n",
              "      <td>23.68</td>\n",
              "      <td>3.31</td>\n",
              "      <td>Male</td>\n",
              "      <td>No</td>\n",
              "      <td>Sun</td>\n",
              "      <td>Dinner</td>\n",
              "      <td>2</td>\n",
              "    </tr>\n",
              "    <tr>\n",
              "      <th>4</th>\n",
              "      <td>24.59</td>\n",
              "      <td>3.61</td>\n",
              "      <td>Female</td>\n",
              "      <td>No</td>\n",
              "      <td>Sun</td>\n",
              "      <td>Dinner</td>\n",
              "      <td>4</td>\n",
              "    </tr>\n",
              "  </tbody>\n",
              "</table>\n",
              "</div>\n",
              "      <button class=\"colab-df-convert\" onclick=\"convertToInteractive('df-e25facf6-0dff-4690-9ff4-4a0773f4a406')\"\n",
              "              title=\"Convert this dataframe to an interactive table.\"\n",
              "              style=\"display:none;\">\n",
              "        \n",
              "  <svg xmlns=\"http://www.w3.org/2000/svg\" height=\"24px\"viewBox=\"0 0 24 24\"\n",
              "       width=\"24px\">\n",
              "    <path d=\"M0 0h24v24H0V0z\" fill=\"none\"/>\n",
              "    <path d=\"M18.56 5.44l.94 2.06.94-2.06 2.06-.94-2.06-.94-.94-2.06-.94 2.06-2.06.94zm-11 1L8.5 8.5l.94-2.06 2.06-.94-2.06-.94L8.5 2.5l-.94 2.06-2.06.94zm10 10l.94 2.06.94-2.06 2.06-.94-2.06-.94-.94-2.06-.94 2.06-2.06.94z\"/><path d=\"M17.41 7.96l-1.37-1.37c-.4-.4-.92-.59-1.43-.59-.52 0-1.04.2-1.43.59L10.3 9.45l-7.72 7.72c-.78.78-.78 2.05 0 2.83L4 21.41c.39.39.9.59 1.41.59.51 0 1.02-.2 1.41-.59l7.78-7.78 2.81-2.81c.8-.78.8-2.07 0-2.86zM5.41 20L4 18.59l7.72-7.72 1.47 1.35L5.41 20z\"/>\n",
              "  </svg>\n",
              "      </button>\n",
              "      \n",
              "  <style>\n",
              "    .colab-df-container {\n",
              "      display:flex;\n",
              "      flex-wrap:wrap;\n",
              "      gap: 12px;\n",
              "    }\n",
              "\n",
              "    .colab-df-convert {\n",
              "      background-color: #E8F0FE;\n",
              "      border: none;\n",
              "      border-radius: 50%;\n",
              "      cursor: pointer;\n",
              "      display: none;\n",
              "      fill: #1967D2;\n",
              "      height: 32px;\n",
              "      padding: 0 0 0 0;\n",
              "      width: 32px;\n",
              "    }\n",
              "\n",
              "    .colab-df-convert:hover {\n",
              "      background-color: #E2EBFA;\n",
              "      box-shadow: 0px 1px 2px rgba(60, 64, 67, 0.3), 0px 1px 3px 1px rgba(60, 64, 67, 0.15);\n",
              "      fill: #174EA6;\n",
              "    }\n",
              "\n",
              "    [theme=dark] .colab-df-convert {\n",
              "      background-color: #3B4455;\n",
              "      fill: #D2E3FC;\n",
              "    }\n",
              "\n",
              "    [theme=dark] .colab-df-convert:hover {\n",
              "      background-color: #434B5C;\n",
              "      box-shadow: 0px 1px 3px 1px rgba(0, 0, 0, 0.15);\n",
              "      filter: drop-shadow(0px 1px 2px rgba(0, 0, 0, 0.3));\n",
              "      fill: #FFFFFF;\n",
              "    }\n",
              "  </style>\n",
              "\n",
              "      <script>\n",
              "        const buttonEl =\n",
              "          document.querySelector('#df-e25facf6-0dff-4690-9ff4-4a0773f4a406 button.colab-df-convert');\n",
              "        buttonEl.style.display =\n",
              "          google.colab.kernel.accessAllowed ? 'block' : 'none';\n",
              "\n",
              "        async function convertToInteractive(key) {\n",
              "          const element = document.querySelector('#df-e25facf6-0dff-4690-9ff4-4a0773f4a406');\n",
              "          const dataTable =\n",
              "            await google.colab.kernel.invokeFunction('convertToInteractive',\n",
              "                                                     [key], {});\n",
              "          if (!dataTable) return;\n",
              "\n",
              "          const docLinkHtml = 'Like what you see? Visit the ' +\n",
              "            '<a target=\"_blank\" href=https://colab.research.google.com/notebooks/data_table.ipynb>data table notebook</a>'\n",
              "            + ' to learn more about interactive tables.';\n",
              "          element.innerHTML = '';\n",
              "          dataTable['output_type'] = 'display_data';\n",
              "          await google.colab.output.renderOutput(dataTable, element);\n",
              "          const docLink = document.createElement('div');\n",
              "          docLink.innerHTML = docLinkHtml;\n",
              "          element.appendChild(docLink);\n",
              "        }\n",
              "      </script>\n",
              "    </div>\n",
              "  </div>\n",
              "  "
            ],
            "text/plain": [
              "   total_bill   tip     sex smoker  day    time  size\n",
              "0       16.99  1.01  Female     No  Sun  Dinner     2\n",
              "1       10.34  1.66    Male     No  Sun  Dinner     3\n",
              "2       21.01  3.50    Male     No  Sun  Dinner     3\n",
              "3       23.68  3.31    Male     No  Sun  Dinner     2\n",
              "4       24.59  3.61  Female     No  Sun  Dinner     4"
            ]
          },
          "metadata": {},
          "execution_count": 4
        }
      ]
    },
    {
      "cell_type": "code",
      "metadata": {
        "id": "qXzkYJi-wWKt",
        "colab": {
          "base_uri": "https://localhost:8080/"
        },
        "outputId": "f42b5541-368a-448d-9c90-918b33d09561"
      },
      "source": [
        "df.dtypes"
      ],
      "execution_count": 5,
      "outputs": [
        {
          "output_type": "execute_result",
          "data": {
            "text/plain": [
              "total_bill     float64\n",
              "tip            float64\n",
              "sex           category\n",
              "smoker        category\n",
              "day           category\n",
              "time          category\n",
              "size             int64\n",
              "dtype: object"
            ]
          },
          "metadata": {},
          "execution_count": 5
        }
      ]
    },
    {
      "cell_type": "markdown",
      "metadata": {
        "id": "TvTlM5GToQcZ"
      },
      "source": [
        "#2. Using the describe and shape methods- display a summary of the data.\n",
        "#Make sure all columns are displayed in the describe method including the categorical ones."
      ]
    },
    {
      "cell_type": "code",
      "metadata": {
        "id": "lDZswlNCooCg",
        "colab": {
          "base_uri": "https://localhost:8080/",
          "height": 394
        },
        "outputId": "61504407-09c2-4077-eda4-007f4adc9766"
      },
      "source": [
        "#Your code here:\n",
        "#Describe:\n",
        "df.describe(include=\"all\")"
      ],
      "execution_count": 6,
      "outputs": [
        {
          "output_type": "execute_result",
          "data": {
            "text/html": [
              "\n",
              "  <div id=\"df-8f30b4f1-3d83-4a16-9fe3-1b912804f05d\">\n",
              "    <div class=\"colab-df-container\">\n",
              "      <div>\n",
              "<style scoped>\n",
              "    .dataframe tbody tr th:only-of-type {\n",
              "        vertical-align: middle;\n",
              "    }\n",
              "\n",
              "    .dataframe tbody tr th {\n",
              "        vertical-align: top;\n",
              "    }\n",
              "\n",
              "    .dataframe thead th {\n",
              "        text-align: right;\n",
              "    }\n",
              "</style>\n",
              "<table border=\"1\" class=\"dataframe\">\n",
              "  <thead>\n",
              "    <tr style=\"text-align: right;\">\n",
              "      <th></th>\n",
              "      <th>total_bill</th>\n",
              "      <th>tip</th>\n",
              "      <th>sex</th>\n",
              "      <th>smoker</th>\n",
              "      <th>day</th>\n",
              "      <th>time</th>\n",
              "      <th>size</th>\n",
              "    </tr>\n",
              "  </thead>\n",
              "  <tbody>\n",
              "    <tr>\n",
              "      <th>count</th>\n",
              "      <td>244.000000</td>\n",
              "      <td>244.000000</td>\n",
              "      <td>244</td>\n",
              "      <td>244</td>\n",
              "      <td>244</td>\n",
              "      <td>244</td>\n",
              "      <td>244.000000</td>\n",
              "    </tr>\n",
              "    <tr>\n",
              "      <th>unique</th>\n",
              "      <td>NaN</td>\n",
              "      <td>NaN</td>\n",
              "      <td>2</td>\n",
              "      <td>2</td>\n",
              "      <td>4</td>\n",
              "      <td>2</td>\n",
              "      <td>NaN</td>\n",
              "    </tr>\n",
              "    <tr>\n",
              "      <th>top</th>\n",
              "      <td>NaN</td>\n",
              "      <td>NaN</td>\n",
              "      <td>Male</td>\n",
              "      <td>No</td>\n",
              "      <td>Sat</td>\n",
              "      <td>Dinner</td>\n",
              "      <td>NaN</td>\n",
              "    </tr>\n",
              "    <tr>\n",
              "      <th>freq</th>\n",
              "      <td>NaN</td>\n",
              "      <td>NaN</td>\n",
              "      <td>157</td>\n",
              "      <td>151</td>\n",
              "      <td>87</td>\n",
              "      <td>176</td>\n",
              "      <td>NaN</td>\n",
              "    </tr>\n",
              "    <tr>\n",
              "      <th>mean</th>\n",
              "      <td>19.785943</td>\n",
              "      <td>2.998279</td>\n",
              "      <td>NaN</td>\n",
              "      <td>NaN</td>\n",
              "      <td>NaN</td>\n",
              "      <td>NaN</td>\n",
              "      <td>2.569672</td>\n",
              "    </tr>\n",
              "    <tr>\n",
              "      <th>std</th>\n",
              "      <td>8.902412</td>\n",
              "      <td>1.383638</td>\n",
              "      <td>NaN</td>\n",
              "      <td>NaN</td>\n",
              "      <td>NaN</td>\n",
              "      <td>NaN</td>\n",
              "      <td>0.951100</td>\n",
              "    </tr>\n",
              "    <tr>\n",
              "      <th>min</th>\n",
              "      <td>3.070000</td>\n",
              "      <td>1.000000</td>\n",
              "      <td>NaN</td>\n",
              "      <td>NaN</td>\n",
              "      <td>NaN</td>\n",
              "      <td>NaN</td>\n",
              "      <td>1.000000</td>\n",
              "    </tr>\n",
              "    <tr>\n",
              "      <th>25%</th>\n",
              "      <td>13.347500</td>\n",
              "      <td>2.000000</td>\n",
              "      <td>NaN</td>\n",
              "      <td>NaN</td>\n",
              "      <td>NaN</td>\n",
              "      <td>NaN</td>\n",
              "      <td>2.000000</td>\n",
              "    </tr>\n",
              "    <tr>\n",
              "      <th>50%</th>\n",
              "      <td>17.795000</td>\n",
              "      <td>2.900000</td>\n",
              "      <td>NaN</td>\n",
              "      <td>NaN</td>\n",
              "      <td>NaN</td>\n",
              "      <td>NaN</td>\n",
              "      <td>2.000000</td>\n",
              "    </tr>\n",
              "    <tr>\n",
              "      <th>75%</th>\n",
              "      <td>24.127500</td>\n",
              "      <td>3.562500</td>\n",
              "      <td>NaN</td>\n",
              "      <td>NaN</td>\n",
              "      <td>NaN</td>\n",
              "      <td>NaN</td>\n",
              "      <td>3.000000</td>\n",
              "    </tr>\n",
              "    <tr>\n",
              "      <th>max</th>\n",
              "      <td>50.810000</td>\n",
              "      <td>10.000000</td>\n",
              "      <td>NaN</td>\n",
              "      <td>NaN</td>\n",
              "      <td>NaN</td>\n",
              "      <td>NaN</td>\n",
              "      <td>6.000000</td>\n",
              "    </tr>\n",
              "  </tbody>\n",
              "</table>\n",
              "</div>\n",
              "      <button class=\"colab-df-convert\" onclick=\"convertToInteractive('df-8f30b4f1-3d83-4a16-9fe3-1b912804f05d')\"\n",
              "              title=\"Convert this dataframe to an interactive table.\"\n",
              "              style=\"display:none;\">\n",
              "        \n",
              "  <svg xmlns=\"http://www.w3.org/2000/svg\" height=\"24px\"viewBox=\"0 0 24 24\"\n",
              "       width=\"24px\">\n",
              "    <path d=\"M0 0h24v24H0V0z\" fill=\"none\"/>\n",
              "    <path d=\"M18.56 5.44l.94 2.06.94-2.06 2.06-.94-2.06-.94-.94-2.06-.94 2.06-2.06.94zm-11 1L8.5 8.5l.94-2.06 2.06-.94-2.06-.94L8.5 2.5l-.94 2.06-2.06.94zm10 10l.94 2.06.94-2.06 2.06-.94-2.06-.94-.94-2.06-.94 2.06-2.06.94z\"/><path d=\"M17.41 7.96l-1.37-1.37c-.4-.4-.92-.59-1.43-.59-.52 0-1.04.2-1.43.59L10.3 9.45l-7.72 7.72c-.78.78-.78 2.05 0 2.83L4 21.41c.39.39.9.59 1.41.59.51 0 1.02-.2 1.41-.59l7.78-7.78 2.81-2.81c.8-.78.8-2.07 0-2.86zM5.41 20L4 18.59l7.72-7.72 1.47 1.35L5.41 20z\"/>\n",
              "  </svg>\n",
              "      </button>\n",
              "      \n",
              "  <style>\n",
              "    .colab-df-container {\n",
              "      display:flex;\n",
              "      flex-wrap:wrap;\n",
              "      gap: 12px;\n",
              "    }\n",
              "\n",
              "    .colab-df-convert {\n",
              "      background-color: #E8F0FE;\n",
              "      border: none;\n",
              "      border-radius: 50%;\n",
              "      cursor: pointer;\n",
              "      display: none;\n",
              "      fill: #1967D2;\n",
              "      height: 32px;\n",
              "      padding: 0 0 0 0;\n",
              "      width: 32px;\n",
              "    }\n",
              "\n",
              "    .colab-df-convert:hover {\n",
              "      background-color: #E2EBFA;\n",
              "      box-shadow: 0px 1px 2px rgba(60, 64, 67, 0.3), 0px 1px 3px 1px rgba(60, 64, 67, 0.15);\n",
              "      fill: #174EA6;\n",
              "    }\n",
              "\n",
              "    [theme=dark] .colab-df-convert {\n",
              "      background-color: #3B4455;\n",
              "      fill: #D2E3FC;\n",
              "    }\n",
              "\n",
              "    [theme=dark] .colab-df-convert:hover {\n",
              "      background-color: #434B5C;\n",
              "      box-shadow: 0px 1px 3px 1px rgba(0, 0, 0, 0.15);\n",
              "      filter: drop-shadow(0px 1px 2px rgba(0, 0, 0, 0.3));\n",
              "      fill: #FFFFFF;\n",
              "    }\n",
              "  </style>\n",
              "\n",
              "      <script>\n",
              "        const buttonEl =\n",
              "          document.querySelector('#df-8f30b4f1-3d83-4a16-9fe3-1b912804f05d button.colab-df-convert');\n",
              "        buttonEl.style.display =\n",
              "          google.colab.kernel.accessAllowed ? 'block' : 'none';\n",
              "\n",
              "        async function convertToInteractive(key) {\n",
              "          const element = document.querySelector('#df-8f30b4f1-3d83-4a16-9fe3-1b912804f05d');\n",
              "          const dataTable =\n",
              "            await google.colab.kernel.invokeFunction('convertToInteractive',\n",
              "                                                     [key], {});\n",
              "          if (!dataTable) return;\n",
              "\n",
              "          const docLinkHtml = 'Like what you see? Visit the ' +\n",
              "            '<a target=\"_blank\" href=https://colab.research.google.com/notebooks/data_table.ipynb>data table notebook</a>'\n",
              "            + ' to learn more about interactive tables.';\n",
              "          element.innerHTML = '';\n",
              "          dataTable['output_type'] = 'display_data';\n",
              "          await google.colab.output.renderOutput(dataTable, element);\n",
              "          const docLink = document.createElement('div');\n",
              "          docLink.innerHTML = docLinkHtml;\n",
              "          element.appendChild(docLink);\n",
              "        }\n",
              "      </script>\n",
              "    </div>\n",
              "  </div>\n",
              "  "
            ],
            "text/plain": [
              "        total_bill         tip   sex smoker  day    time        size\n",
              "count   244.000000  244.000000   244    244  244     244  244.000000\n",
              "unique         NaN         NaN     2      2    4       2         NaN\n",
              "top            NaN         NaN  Male     No  Sat  Dinner         NaN\n",
              "freq           NaN         NaN   157    151   87     176         NaN\n",
              "mean     19.785943    2.998279   NaN    NaN  NaN     NaN    2.569672\n",
              "std       8.902412    1.383638   NaN    NaN  NaN     NaN    0.951100\n",
              "min       3.070000    1.000000   NaN    NaN  NaN     NaN    1.000000\n",
              "25%      13.347500    2.000000   NaN    NaN  NaN     NaN    2.000000\n",
              "50%      17.795000    2.900000   NaN    NaN  NaN     NaN    2.000000\n",
              "75%      24.127500    3.562500   NaN    NaN  NaN     NaN    3.000000\n",
              "max      50.810000   10.000000   NaN    NaN  NaN     NaN    6.000000"
            ]
          },
          "metadata": {},
          "execution_count": 6
        }
      ]
    },
    {
      "cell_type": "code",
      "metadata": {
        "id": "xOsWBPK0o4hH",
        "colab": {
          "base_uri": "https://localhost:8080/"
        },
        "outputId": "a888cb28-e4b4-4dd0-803f-3036b76b71c0"
      },
      "source": [
        "#Your code here:\n",
        "#Shape:\n",
        "df.shape"
      ],
      "execution_count": 7,
      "outputs": [
        {
          "output_type": "execute_result",
          "data": {
            "text/plain": [
              "(244, 7)"
            ]
          },
          "metadata": {},
          "execution_count": 7
        }
      ]
    },
    {
      "cell_type": "markdown",
      "metadata": {
        "id": "DMiM6Ljro4BI"
      },
      "source": [
        "#3. Display the following:\n",
        "\n",
        "A.   how many unique values are there in the \"time\" column?\n",
        "\n",
        "B.   how many instances are there for each category in the \"time\" column? \n",
        "(hint: use value_counts)\n",
        "\n",
        "C. what is the mean and median of the \"total_bill\" column?\n",
        "\n",
        "\n"
      ]
    },
    {
      "cell_type": "code",
      "metadata": {
        "id": "BL-s3Y4kqDpP",
        "colab": {
          "base_uri": "https://localhost:8080/"
        },
        "outputId": "f82eabe7-644a-465d-a045-da6164149980"
      },
      "source": [
        "#Your code here:\n",
        "df.time.unique()\n",
        "#A.  unique values in \"time\"\n",
        "#A.Answer : We have in column \"time\" two unique values."
      ],
      "execution_count": 8,
      "outputs": [
        {
          "output_type": "execute_result",
          "data": {
            "text/plain": [
              "['Dinner', 'Lunch']\n",
              "Categories (2, object): ['Dinner', 'Lunch']"
            ]
          },
          "metadata": {},
          "execution_count": 8
        }
      ]
    },
    {
      "cell_type": "code",
      "metadata": {
        "id": "_Y9ydDvwqED_",
        "colab": {
          "base_uri": "https://localhost:8080/"
        },
        "outputId": "2cfec8a0-9987-4452-a683-d894d684eb25"
      },
      "source": [
        "#Your code here:\n",
        "df.time.value_counts()\n",
        "#B. value counts in \"time\"\n",
        "#B.Answer : The frequency of the unique values in column \"time\" are : Dinner - 176 and Lunch - 68"
      ],
      "execution_count": 9,
      "outputs": [
        {
          "output_type": "execute_result",
          "data": {
            "text/plain": [
              "Dinner    176\n",
              "Lunch      68\n",
              "Name: time, dtype: int64"
            ]
          },
          "metadata": {},
          "execution_count": 9
        }
      ]
    },
    {
      "cell_type": "code",
      "metadata": {
        "id": "8pIzIzP0qEbm",
        "colab": {
          "base_uri": "https://localhost:8080/"
        },
        "outputId": "e6bc01f3-7ee3-46d5-e274-0b610cbe1fa0"
      },
      "source": [
        "#Your code here:\n",
        "print(df.total_bill.mean())\n",
        "print(df.total_bill.median())\n",
        "#C. mean and median of \"total_bill\"\n",
        "#C.Answer : The mean of the column \"total_bill\" is : 19.785942622950824 and the median is 17.795"
      ],
      "execution_count": 10,
      "outputs": [
        {
          "output_type": "stream",
          "name": "stdout",
          "text": [
            "19.785942622950824\n",
            "17.795\n"
          ]
        }
      ]
    },
    {
      "cell_type": "markdown",
      "metadata": {
        "id": "n8caI79tqcXG"
      },
      "source": [
        "#4. A. create a new column \"tip_percent\" and set its value to be \t100*tip/total_bill.\n",
        "#B.  create a new column \"high_tip\" and set its value to be 0 for all tips below the median \"tip_percent\" and 1 for all tips higher than the median of \"tip_percent. \n",
        "#C. plot a histogram of \"high_tip\" column."
      ]
    },
    {
      "cell_type": "code",
      "metadata": {
        "id": "CFlVuG5brUlH",
        "colab": {
          "base_uri": "https://localhost:8080/"
        },
        "outputId": "f3e94ea5-3b96-45d3-eb4d-a6f6185498e0"
      },
      "source": [
        "#Your code here:\n",
        "df[\"tip_percent\"] = df.tip/df.total_bill * 100\n",
        "print(df)\n",
        "#A. create a new column \"tip_percent\":\n",
        "#A.Answer : The column \"tip_percent\" created and calculated in succesfully.\n"
      ],
      "execution_count": 11,
      "outputs": [
        {
          "output_type": "stream",
          "name": "stdout",
          "text": [
            "     total_bill   tip     sex smoker   day    time  size  tip_percent\n",
            "0         16.99  1.01  Female     No   Sun  Dinner     2     5.944673\n",
            "1         10.34  1.66    Male     No   Sun  Dinner     3    16.054159\n",
            "2         21.01  3.50    Male     No   Sun  Dinner     3    16.658734\n",
            "3         23.68  3.31    Male     No   Sun  Dinner     2    13.978041\n",
            "4         24.59  3.61  Female     No   Sun  Dinner     4    14.680765\n",
            "..          ...   ...     ...    ...   ...     ...   ...          ...\n",
            "239       29.03  5.92    Male     No   Sat  Dinner     3    20.392697\n",
            "240       27.18  2.00  Female    Yes   Sat  Dinner     2     7.358352\n",
            "241       22.67  2.00    Male    Yes   Sat  Dinner     2     8.822232\n",
            "242       17.82  1.75    Male     No   Sat  Dinner     2     9.820426\n",
            "243       18.78  3.00  Female     No  Thur  Dinner     2    15.974441\n",
            "\n",
            "[244 rows x 8 columns]\n"
          ]
        }
      ]
    },
    {
      "cell_type": "code",
      "metadata": {
        "id": "tWtsc5vNr7QQ",
        "colab": {
          "base_uri": "https://localhost:8080/"
        },
        "outputId": "f060e132-01b7-4b8a-d5d3-0c7a793a1e4d"
      },
      "source": [
        "#Your code here:\n",
        "df[\"high_tip\"]=0\n",
        "df.loc[:,\"high_tip\"][df['tip_percent']>df['tip_percent'].median()]=1\n",
        "print(df)\n",
        "#B. create a new column \"high_tip\":\n",
        "#B.Answer : The column \"high_tip\" created and calculated in succesfully.\n",
        "\n"
      ],
      "execution_count": 12,
      "outputs": [
        {
          "output_type": "stream",
          "name": "stdout",
          "text": [
            "     total_bill   tip     sex smoker   day    time  size  tip_percent  high_tip\n",
            "0         16.99  1.01  Female     No   Sun  Dinner     2     5.944673         0\n",
            "1         10.34  1.66    Male     No   Sun  Dinner     3    16.054159         1\n",
            "2         21.01  3.50    Male     No   Sun  Dinner     3    16.658734         1\n",
            "3         23.68  3.31    Male     No   Sun  Dinner     2    13.978041         0\n",
            "4         24.59  3.61  Female     No   Sun  Dinner     4    14.680765         0\n",
            "..          ...   ...     ...    ...   ...     ...   ...          ...       ...\n",
            "239       29.03  5.92    Male     No   Sat  Dinner     3    20.392697         1\n",
            "240       27.18  2.00  Female    Yes   Sat  Dinner     2     7.358352         0\n",
            "241       22.67  2.00    Male    Yes   Sat  Dinner     2     8.822232         0\n",
            "242       17.82  1.75    Male     No   Sat  Dinner     2     9.820426         0\n",
            "243       18.78  3.00  Female     No  Thur  Dinner     2    15.974441         1\n",
            "\n",
            "[244 rows x 9 columns]\n"
          ]
        },
        {
          "output_type": "stream",
          "name": "stderr",
          "text": [
            "/usr/local/lib/python3.7/dist-packages/ipykernel_launcher.py:3: SettingWithCopyWarning: \n",
            "A value is trying to be set on a copy of a slice from a DataFrame\n",
            "\n",
            "See the caveats in the documentation: https://pandas.pydata.org/pandas-docs/stable/user_guide/indexing.html#returning-a-view-versus-a-copy\n",
            "  This is separate from the ipykernel package so we can avoid doing imports until\n"
          ]
        }
      ]
    },
    {
      "cell_type": "code",
      "metadata": {
        "id": "YbUckdfxsmbG",
        "colab": {
          "base_uri": "https://localhost:8080/",
          "height": 283
        },
        "outputId": "5d4b5cee-25e5-419c-9e06-45195c241106"
      },
      "source": [
        "#Your code here:\n",
        "df[\"high_tip\"].hist()\n",
        "\n",
        "#C. plot a histogram of \"high_tip\" column\n",
        "#C.Answer : The histogram of column \"high_tip\" created in succesfully.\n",
        "\n"
      ],
      "execution_count": 13,
      "outputs": [
        {
          "output_type": "execute_result",
          "data": {
            "text/plain": [
              "<matplotlib.axes._subplots.AxesSubplot at 0x7f67970bda90>"
            ]
          },
          "metadata": {},
          "execution_count": 13
        },
        {
          "output_type": "display_data",
          "data": {
            "image/png": "[encoded data removed]",
            "text/plain": [
              "<Figure size 432x288 with 1 Axes>"
            ]
          },
          "metadata": {
            "needs_background": "light"
          }
        }
      ]
    },
    {
      "cell_type": "markdown",
      "metadata": {
        "id": "tT1xKdIgvAdh"
      },
      "source": [
        "#5. groupyby:\n",
        "#A. create a groupby object named df_smoker using the \"smoker\" categorical column.\n",
        "#B. create a new dataframe named Agg_df_smoker that summarizes (using agg function) the columns [\"total_bill\",\"tip\"] by [np.mean,np.median,np.std]. \n",
        "#C. answer in the text box:\n",
        "Does smokers tip higher on average? (yes or no)\n",
        "\n",
        "Does smokers have higher total bill on average? (yes or no)"
      ]
    },
    {
      "cell_type": "code",
      "metadata": {
        "id": "nWYKSgc9jrNM"
      },
      "source": [
        "#Your code here:\n",
        "df_smoker=df.groupby(by=\"smoker\")\n",
        "#A. create a groupby object named df_smoker using the \"smoker\" categorical column.\n",
        "#A.Answer : Group by column \"smoker\" created in succesfully.\n"
      ],
      "execution_count": 14,
      "outputs": []
    },
    {
      "cell_type": "code",
      "source": [
        "#Your code here:\n",
        "Agg_df_smoker=df_smoker[\"total_bill\",\"tip\"].agg([np.mean , np.median , np.std])\n",
        "print(Agg_df_smoker)\n",
        "\n",
        "#B.create a new dataframe named Agg_df_smoker that summarizes (using agg function)\n",
        "# the columns [\"total_bill\",\"tip\"] by [np.mean,np.median,np.std].\n",
        "#B.Answer : The new df that named \"Agg_df_smoker\" and his summarizes by the statistics functions mean , median and std created in successfully.\n",
        " \n"
      ],
      "metadata": {
        "id": "ozWGMgcJIqfG",
        "colab": {
          "base_uri": "https://localhost:8080/"
        },
        "outputId": "344b7a3e-6067-42a0-bb3d-a7a839413c84"
      },
      "execution_count": 15,
      "outputs": [
        {
          "output_type": "stream",
          "name": "stdout",
          "text": [
            "       total_bill                        tip                 \n",
            "             mean median       std      mean median       std\n",
            "smoker                                                       \n",
            "Yes     20.756344  17.92  9.832154  3.008710   3.00  1.401468\n",
            "No      19.188278  17.59  8.255582  2.991854   2.74  1.377190\n"
          ]
        },
        {
          "output_type": "stream",
          "name": "stderr",
          "text": [
            "/usr/local/lib/python3.7/dist-packages/ipykernel_launcher.py:2: FutureWarning: Indexing with multiple keys (implicitly converted to a tuple of keys) will be deprecated, use a list instead.\n",
            "  \n"
          ]
        }
      ]
    },
    {
      "cell_type": "markdown",
      "metadata": {
        "id": "nQwr0wrNxXsM"
      },
      "source": [
        "#c. Your answer here:\n",
        "Do smokers tip higher on average? (yes)\n",
        "The Answer is Yes.\n",
        "\n",
        "Do smokers have higher total bill on average? (yes)\n",
        "The Answer is Yes."
      ]
    },
    {
      "cell_type": "markdown",
      "metadata": {
        "id": "hk0buCVJx7de"
      },
      "source": [
        "#6. In the following section use df_numeric- a dataframe that contains only numeric columns (int/float).\n",
        "#A. convert df_numeric to a numpy array named array_numeric (to_numpy function)\n",
        "#B. create a new numpy array named array_numeric_shekel which is identical to array_numeric but multiply columns 0 and 1 (which used to be \"total_bill\" and \"tip\") by 3.16 to convert them to shekels.\n",
        "#C. convert array_numeric_shekel to a dataframe (pd,DataFrame function) named df_numeric_shekel and rename the columns so that the names will be identical to  df_numeric but instead of \"total_bill\" -->\"total_bill_shekels\" and instead of \"tip\" -->\"tip_shekels\""
      ]
    },
    {
      "cell_type": "code",
      "metadata": {
        "id": "wYuE52tCx9Ki",
        "colab": {
          "base_uri": "https://localhost:8080/",
          "height": 206
        },
        "outputId": "a6ff7a5b-0e7c-486c-fc26-b3748b1c75d3"
      },
      "source": [
        "df_numeric=df.loc[:,df.dtypes!=\"category\"]\n",
        "df_numeric.head()"
      ],
      "execution_count": 16,
      "outputs": [
        {
          "output_type": "execute_result",
          "data": {
            "text/html": [
              "\n",
              "  <div id=\"df-e8baecfb-67c2-4bb7-8a2c-deeeadfad574\">\n",
              "    <div class=\"colab-df-container\">\n",
              "      <div>\n",
              "<style scoped>\n",
              "    .dataframe tbody tr th:only-of-type {\n",
              "        vertical-align: middle;\n",
              "    }\n",
              "\n",
              "    .dataframe tbody tr th {\n",
              "        vertical-align: top;\n",
              "    }\n",
              "\n",
              "    .dataframe thead th {\n",
              "        text-align: right;\n",
              "    }\n",
              "</style>\n",
              "<table border=\"1\" class=\"dataframe\">\n",
              "  <thead>\n",
              "    <tr style=\"text-align: right;\">\n",
              "      <th></th>\n",
              "      <th>total_bill</th>\n",
              "      <th>tip</th>\n",
              "      <th>size</th>\n",
              "      <th>tip_percent</th>\n",
              "      <th>high_tip</th>\n",
              "    </tr>\n",
              "  </thead>\n",
              "  <tbody>\n",
              "    <tr>\n",
              "      <th>0</th>\n",
              "      <td>16.99</td>\n",
              "      <td>1.01</td>\n",
              "      <td>2</td>\n",
              "      <td>5.944673</td>\n",
              "      <td>0</td>\n",
              "    </tr>\n",
              "    <tr>\n",
              "      <th>1</th>\n",
              "      <td>10.34</td>\n",
              "      <td>1.66</td>\n",
              "      <td>3</td>\n",
              "      <td>16.054159</td>\n",
              "      <td>1</td>\n",
              "    </tr>\n",
              "    <tr>\n",
              "      <th>2</th>\n",
              "      <td>21.01</td>\n",
              "      <td>3.50</td>\n",
              "      <td>3</td>\n",
              "      <td>16.658734</td>\n",
              "      <td>1</td>\n",
              "    </tr>\n",
              "    <tr>\n",
              "      <th>3</th>\n",
              "      <td>23.68</td>\n",
              "      <td>3.31</td>\n",
              "      <td>2</td>\n",
              "      <td>13.978041</td>\n",
              "      <td>0</td>\n",
              "    </tr>\n",
              "    <tr>\n",
              "      <th>4</th>\n",
              "      <td>24.59</td>\n",
              "      <td>3.61</td>\n",
              "      <td>4</td>\n",
              "      <td>14.680765</td>\n",
              "      <td>0</td>\n",
              "    </tr>\n",
              "  </tbody>\n",
              "</table>\n",
              "</div>\n",
              "      <button class=\"colab-df-convert\" onclick=\"convertToInteractive('df-e8baecfb-67c2-4bb7-8a2c-deeeadfad574')\"\n",
              "              title=\"Convert this dataframe to an interactive table.\"\n",
              "              style=\"display:none;\">\n",
              "        \n",
              "  <svg xmlns=\"http://www.w3.org/2000/svg\" height=\"24px\"viewBox=\"0 0 24 24\"\n",
              "       width=\"24px\">\n",
              "    <path d=\"M0 0h24v24H0V0z\" fill=\"none\"/>\n",
              "    <path d=\"M18.56 5.44l.94 2.06.94-2.06 2.06-.94-2.06-.94-.94-2.06-.94 2.06-2.06.94zm-11 1L8.5 8.5l.94-2.06 2.06-.94-2.06-.94L8.5 2.5l-.94 2.06-2.06.94zm10 10l.94 2.06.94-2.06 2.06-.94-2.06-.94-.94-2.06-.94 2.06-2.06.94z\"/><path d=\"M17.41 7.96l-1.37-1.37c-.4-.4-.92-.59-1.43-.59-.52 0-1.04.2-1.43.59L10.3 9.45l-7.72 7.72c-.78.78-.78 2.05 0 2.83L4 21.41c.39.39.9.59 1.41.59.51 0 1.02-.2 1.41-.59l7.78-7.78 2.81-2.81c.8-.78.8-2.07 0-2.86zM5.41 20L4 18.59l7.72-7.72 1.47 1.35L5.41 20z\"/>\n",
              "  </svg>\n",
              "      </button>\n",
              "      \n",
              "  <style>\n",
              "    .colab-df-container {\n",
              "      display:flex;\n",
              "      flex-wrap:wrap;\n",
              "      gap: 12px;\n",
              "    }\n",
              "\n",
              "    .colab-df-convert {\n",
              "      background-color: #E8F0FE;\n",
              "      border: none;\n",
              "      border-radius: 50%;\n",
              "      cursor: pointer;\n",
              "      display: none;\n",
              "      fill: #1967D2;\n",
              "      height: 32px;\n",
              "      padding: 0 0 0 0;\n",
              "      width: 32px;\n",
              "    }\n",
              "\n",
              "    .colab-df-convert:hover {\n",
              "      background-color: #E2EBFA;\n",
              "      box-shadow: 0px 1px 2px rgba(60, 64, 67, 0.3), 0px 1px 3px 1px rgba(60, 64, 67, 0.15);\n",
              "      fill: #174EA6;\n",
              "    }\n",
              "\n",
              "    [theme=dark] .colab-df-convert {\n",
              "      background-color: #3B4455;\n",
              "      fill: #D2E3FC;\n",
              "    }\n",
              "\n",
              "    [theme=dark] .colab-df-convert:hover {\n",
              "      background-color: #434B5C;\n",
              "      box-shadow: 0px 1px 3px 1px rgba(0, 0, 0, 0.15);\n",
              "      filter: drop-shadow(0px 1px 2px rgba(0, 0, 0, 0.3));\n",
              "      fill: #FFFFFF;\n",
              "    }\n",
              "  </style>\n",
              "\n",
              "      <script>\n",
              "        const buttonEl =\n",
              "          document.querySelector('#df-e8baecfb-67c2-4bb7-8a2c-deeeadfad574 button.colab-df-convert');\n",
              "        buttonEl.style.display =\n",
              "          google.colab.kernel.accessAllowed ? 'block' : 'none';\n",
              "\n",
              "        async function convertToInteractive(key) {\n",
              "          const element = document.querySelector('#df-e8baecfb-67c2-4bb7-8a2c-deeeadfad574');\n",
              "          const dataTable =\n",
              "            await google.colab.kernel.invokeFunction('convertToInteractive',\n",
              "                                                     [key], {});\n",
              "          if (!dataTable) return;\n",
              "\n",
              "          const docLinkHtml = 'Like what you see? Visit the ' +\n",
              "            '<a target=\"_blank\" href=https://colab.research.google.com/notebooks/data_table.ipynb>data table notebook</a>'\n",
              "            + ' to learn more about interactive tables.';\n",
              "          element.innerHTML = '';\n",
              "          dataTable['output_type'] = 'display_data';\n",
              "          await google.colab.output.renderOutput(dataTable, element);\n",
              "          const docLink = document.createElement('div');\n",
              "          docLink.innerHTML = docLinkHtml;\n",
              "          element.appendChild(docLink);\n",
              "        }\n",
              "      </script>\n",
              "    </div>\n",
              "  </div>\n",
              "  "
            ],
            "text/plain": [
              "   total_bill   tip  size  tip_percent  high_tip\n",
              "0       16.99  1.01     2     5.944673         0\n",
              "1       10.34  1.66     3    16.054159         1\n",
              "2       21.01  3.50     3    16.658734         1\n",
              "3       23.68  3.31     2    13.978041         0\n",
              "4       24.59  3.61     4    14.680765         0"
            ]
          },
          "metadata": {},
          "execution_count": 16
        }
      ]
    },
    {
      "cell_type": "code",
      "metadata": {
        "id": "JOE4lwtHysnY",
        "colab": {
          "base_uri": "https://localhost:8080/"
        },
        "outputId": "44da84ff-18af-4bc2-85f2-370ca5f8e39a"
      },
      "source": [
        "#Your code here:\n",
        "array_numeric = df_numeric.to_numpy()\n",
        "print(array_numeric)\n",
        "#A.convert df_numeric to a numpy array named array_numeric\n",
        "#A.Answer : The converted from df to nupmy array executed in successfully.\n"
      ],
      "execution_count": 17,
      "outputs": [
        {
          "output_type": "stream",
          "name": "stdout",
          "text": [
            "[[16.99        1.01        2.          5.94467334  0.        ]\n",
            " [10.34        1.66        3.         16.05415861  1.        ]\n",
            " [21.01        3.5         3.         16.65873394  1.        ]\n",
            " ...\n",
            " [22.67        2.          2.          8.82223202  0.        ]\n",
            " [17.82        1.75        2.          9.82042649  0.        ]\n",
            " [18.78        3.          2.         15.97444089  1.        ]]\n"
          ]
        }
      ]
    },
    {
      "cell_type": "code",
      "metadata": {
        "id": "8eyggyqV1fBS"
      },
      "source": [
        "#Your code here:\n",
        "array_numeric_shekel = array_numeric\n",
        "array_for_double = [3.16 , 3.16 , 1 , 1 , 1]\n",
        "array_numeric_shekel = array_numeric_shekel * array_for_double\n",
        "#B.create a new numpy array named array_numeric_shekel\n",
        "#B.Answer : The numpy array that named \"array_numeric_shekel\" created and calculated to shekels in succesfully.\n"
      ],
      "execution_count": 25,
      "outputs": []
    },
    {
      "cell_type": "code",
      "metadata": {
        "id": "jNpMVld_1j3K",
        "colab": {
          "base_uri": "https://localhost:8080/"
        },
        "outputId": "39fde8d7-28e2-42aa-c0a2-fe4c9e95a335"
      },
      "source": [
        "#Your code here:\n",
        "df_numeric_shekel = pd.DataFrame(array_numeric_shekel , columns = ['total_bill_shekels','tip_shekels', 'size' , 'tip_percent' , 'high_tip'])\n",
        "print(df_numeric_shekel)\n",
        "#C.convert array_numeric_shekel to a dataframe named df_numeric_shekel\n",
        "#C.Answer : The numpy array that named \"array_numeric_shekel\" converted and calculated to df in shekels in succesfully.\n"
      ],
      "execution_count": 24,
      "outputs": [
        {
          "output_type": "stream",
          "name": "stdout",
          "text": [
            "     total_bill_shekels  tip_shekels  size  tip_percent  high_tip\n",
            "0               53.6884       3.1916   2.0     5.944673       0.0\n",
            "1               32.6744       5.2456   3.0    16.054159       1.0\n",
            "2               66.3916      11.0600   3.0    16.658734       1.0\n",
            "3               74.8288      10.4596   2.0    13.978041       0.0\n",
            "4               77.7044      11.4076   4.0    14.680765       0.0\n",
            "..                  ...          ...   ...          ...       ...\n",
            "239             91.7348      18.7072   3.0    20.392697       1.0\n",
            "240             85.8888       6.3200   2.0     7.358352       0.0\n",
            "241             71.6372       6.3200   2.0     8.822232       0.0\n",
            "242             56.3112       5.5300   2.0     9.820426       0.0\n",
            "243             59.3448       9.4800   2.0    15.974441       1.0\n",
            "\n",
            "[244 rows x 5 columns]\n"
          ]
        }
      ]
    },
    {
      "cell_type": "markdown",
      "metadata": {
        "id": "QNOm9uoZ1bGR"
      },
      "source": [
        "#Good Luck!!"
      ]
    }
  ]
}